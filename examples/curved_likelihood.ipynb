{
 "cells": [
  {
   "cell_type": "code",
   "execution_count": null,
   "metadata": {
    "collapsed": false
   },
   "outputs": [],
   "source": [
    "import numpy as np\n",
    "import matplotlib.pylab as plt\n",
    "import corner\n",
    "import numdifftools as nd\n",
    "import glob\n",
    "import scipy.optimize as so\n",
    "import scipy.linalg as sl\n",
    "from PTMCMCSampler import PTMCMCSampler\n",
    "\n",
    "%matplotlib inline"
   ]
  },
  {
   "cell_type": "code",
   "execution_count": null,
   "metadata": {
    "collapsed": true
   },
   "outputs": [],
   "source": [
    "class CurvedLikelihood(object):\n",
    "    \n",
    "    def __init__(self):\n",
    "        \n",
    "        self.pmin = np.array([-10, -10])\n",
    "        self.pmax = np.array([10, 10])\n",
    "    \n",
    "    def lnlikefn(self, x):\n",
    "        \n",
    "        # x = x[0],  y = x[1]\n",
    "        \n",
    "        ll = np.exp(-x[0]**2 - (9+4*x[0]**2 + 9*x[1])**2) + 0.5 * np.exp(-8*x[0]**2-8*(x[1]-2)**2)\n",
    "        \n",
    "        return np.log(ll)\n",
    "    \n",
    "    def lnlikefn_grad(self, x):\n",
    "        \n",
    "        # x = x[0],  y = x[1]\n",
    "        ll_grad = np.zeros_like(x)\n",
    "        ll_0_grad = np.zeros_like(x)\n",
    "        ll_1_grad = np.zeros_like(x)\n",
    "        \n",
    "        # Likelihood components\n",
    "        ll_0 = -x[0]**2 - (9+4*x[0]**2 + 9*x[1])**2\n",
    "        ll_1 = -8*x[0]**2-8*(x[1]-2)**2\n",
    "        \n",
    "        # Gradients for component 0\n",
    "        ll_0_grad[0] = -2.0*x[0] - 2.0*(9+4*x[0]**2+9*x[1])*(8*x[0])\n",
    "        ll_0_grad[1] = -18.0*(9+4*x[0]**2+9*x[1])\n",
    "        \n",
    "        # Gradients for component 1\n",
    "        ll_1_grad[0] = -16*x[0]\n",
    "        ll_1_grad[1] = -16*(x[1]-2)\n",
    "        \n",
    "        # Combined likelihood\n",
    "        lik = np.exp(ll_0) + 0.5 * np.exp(ll_1)\n",
    "        \n",
    "        # Combined gradients\n",
    "        ll_grad = (np.exp(ll_0) * ll_0_grad + 0.5*np.exp(ll_1) * ll_1_grad) / lik\n",
    "        \n",
    "        return np.log(lik), ll_grad\n",
    "    \n",
    "    def lnpriorfn(self, x):\n",
    "        \n",
    "        if np.all(self.pmin < x) and np.all(self.pmax > x):\n",
    "            return 0.0\n",
    "        else:\n",
    "            return -np.inf  \n",
    "        return 0.0\n",
    "    \n",
    "    def lnpriorfn_grad(self, x):\n",
    "        return self.lnpriorfn(x), np.zeros_like(x)\n",
    "\n",
    "cl = CurvedLikelihood()"
   ]
  },
  {
   "cell_type": "code",
   "execution_count": null,
   "metadata": {
    "collapsed": false
   },
   "outputs": [],
   "source": [
    "# Demonstrate that the gradients are accurate\n",
    "p0 = np.array([-0.1, -0.5]) # np.array([-0.07943648, -0.63131195]) # np.random.randn(2)\n",
    "ndjac = nd.Jacobian(cl.lnlikefn)\n",
    "ndhess = nd.Hessian(cl.lnlikefn)\n",
    "\n",
    "print p0\n",
    "print cl.lnlikefn_grad(p0)[1]\n",
    "print ndjac(p0)"
   ]
  },
  {
   "cell_type": "code",
   "execution_count": null,
   "metadata": {
    "collapsed": false
   },
   "outputs": [],
   "source": [
    "result = so.minimize(lambda x: -cl.lnlikefn(x), p0, jac=lambda x: -cl.lnlikefn_grad(x)[1],\n",
    "                     method='Newton-CG', hess=lambda x: -ndhess(x), options={'disp':True})"
   ]
  },
  {
   "cell_type": "code",
   "execution_count": null,
   "metadata": {
    "collapsed": false
   },
   "outputs": [],
   "source": [
    "# Start position & covariance based on ML & Hessian (for Hessian, use stepsize = 0.045)\n",
    "p0 = result['x']\n",
    "h0 = ndhess(p0)\n",
    "cov = sl.cho_solve(sl.cho_factor(-h0), np.eye(len(h0)))\n",
    "\n",
    "# Hessian not the best option for this multi-modal problem. Use custom value:\n",
    "cov = np.diag([1.0, 1.0])"
   ]
  },
  {
   "cell_type": "code",
   "execution_count": null,
   "metadata": {
    "collapsed": false
   },
   "outputs": [],
   "source": [
    "sampler = PTMCMCSampler.PTSampler(2, cl.lnlikefn, cl.lnpriorfn, np.copy(cov),\n",
    "                                  logl_grad=cl.lnlikefn_grad, logp_grad=cl.lnpriorfn_grad,\n",
    "                                  outDir='./chains')"
   ]
  },
  {
   "cell_type": "code",
   "execution_count": null,
   "metadata": {
    "collapsed": false
   },
   "outputs": [],
   "source": [
    "sampler.sample(p0, 100000, burn=10000, thin=1,\n",
    "               SCAMweight=10, AMweight=10, DEweight=10, NUTSweight=10, HMCweight=10, MALAweight=0,\n",
    "               HMCsteps=50, HMCstepsize=0.08)"
   ]
  },
  {
   "cell_type": "code",
   "execution_count": null,
   "metadata": {
    "collapsed": false
   },
   "outputs": [],
   "source": [
    "data = np.loadtxt('chains/chain_1.txt')\n",
    "corner.corner(data[:,:2], bins=50);"
   ]
  },
  {
   "cell_type": "code",
   "execution_count": null,
   "metadata": {
    "collapsed": false
   },
   "outputs": [],
   "source": [
    "jumpfiles = glob.glob('chains/*jump.txt')\n",
    "jumps = map(np.loadtxt, jumpfiles)\n",
    "for ct, j in enumerate(jumps):\n",
    "    plt.plot(j, label=jumpfiles[ct].split('/')[-1].split('_jump.txt')[0])\n",
    "plt.legend(loc='best', frameon=False)\n",
    "plt.ylabel('Acceptance Rate')\n",
    "plt.ylim(0.0, 1.1)"
   ]
  },
  {
   "cell_type": "code",
   "execution_count": null,
   "metadata": {
    "collapsed": true
   },
   "outputs": [],
   "source": []
  },
  {
   "cell_type": "code",
   "execution_count": null,
   "metadata": {
    "collapsed": true
   },
   "outputs": [],
   "source": []
  }
 ],
 "metadata": {
  "kernelspec": {
   "display_name": "Python 2",
   "language": "python",
   "name": "python2"
  },
  "language_info": {
   "codemirror_mode": {
    "name": "ipython",
    "version": 2
   },
   "file_extension": ".py",
   "mimetype": "text/x-python",
   "name": "python",
   "nbconvert_exporter": "python",
   "pygments_lexer": "ipython2",
   "version": "2.7.5"
  }
 },
 "nbformat": 4,
 "nbformat_minor": 0
}
